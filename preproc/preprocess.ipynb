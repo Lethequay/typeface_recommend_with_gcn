{
 "cells": [
  {
   "cell_type": "markdown",
   "metadata": {},
   "source": [
    "# FIU DATA ATTATCH"
   ]
  },
  {
   "cell_type": "code",
   "execution_count": null,
   "metadata": {},
   "outputs": [],
   "source": [
    "import numpy as np\n",
    "import os\n",
    "\n",
    "path = \"./data/crawl_frag\"\n",
    "fiu_list = []\n",
    "\n",
    "for file in os.listdir(path):\n",
    "    if file.startswith(\"fiu\"):\n",
    "        fiu_list.append(np.load(path+file))"
   ]
  },
  {
   "cell_type": "code",
   "execution_count": null,
   "metadata": {},
   "outputs": [],
   "source": [
    "fiu_array = np.concatenate(fiu_list, 0)"
   ]
  },
  {
   "cell_type": "code",
   "execution_count": null,
   "metadata": {},
   "outputs": [],
   "source": [
    "np.save(\"./fiu_data.npy\", fiu_array)"
   ]
  },
  {
   "cell_type": "markdown",
   "metadata": {},
   "source": [
    "# Typeface Dict ATTATCH"
   ]
  },
  {
   "cell_type": "code",
   "execution_count": 96,
   "metadata": {},
   "outputs": [],
   "source": [
    "import numpy as np\n",
    "import os\n",
    "import urllib.request\n",
    "\n",
    "path = \"../data/crawl_frag/\"\n",
    "type_list = []\n",
    "\n",
    "for file in os.listdir(path):\n",
    "    if file.startswith(\"typeface\"):\n",
    "        type_list.append(np.load(path+file).item())"
   ]
  },
  {
   "cell_type": "code",
   "execution_count": 97,
   "metadata": {},
   "outputs": [],
   "source": [
    "new_type_dict = {}\n",
    "for dic in type_list:\n",
    "    for (key, value) in dic.items():\n",
    "        if new_type_dict.get(key) == None:\n",
    "            new_type_dict[key] = value\n",
    "        else:\n",
    "            continue"
   ]
  },
  {
   "cell_type": "code",
   "execution_count": 47,
   "metadata": {},
   "outputs": [],
   "source": [
    "import urllib.request\n",
    "dw_path = \"../data/png/\"\n",
    "\n",
    "for (name, url) in new_type_dict.items():\n",
    "    name = name.replace(' ','%').replace('/','=')\n",
    "    urllib.request.urlretrieve(url, dw_path+name+\".png\")"
   ]
  },
  {
   "cell_type": "markdown",
   "metadata": {},
   "source": [
    "indexing again"
   ]
  },
  {
   "cell_type": "code",
   "execution_count": 102,
   "metadata": {},
   "outputs": [],
   "source": [
    "import urllib.request\n",
    "dw_path = \"../data/idx_png/\"\n",
    "typo2id = np.load(\"../data/typo_dict.npy\").item()\n",
    "\n",
    "for (name, url) in new_type_dict.items():\n",
    "    name = str(typo2id[name])\n",
    "    urllib.request.urlretrieve(url, dw_path+name+\".png\")"
   ]
  },
  {
   "cell_type": "markdown",
   "metadata": {},
   "source": [
    "# FastText"
   ]
  },
  {
   "cell_type": "code",
   "execution_count": null,
   "metadata": {},
   "outputs": [],
   "source": [
    "import io\n",
    "fin = io.open(\"../data/word_emb/wiki-news-300d-1M.vec\", \n",
    "              'r', encoding='utf-8', newline='\\n', errors='ignore')\n",
    "n, d = map(int, fin.readline().split())"
   ]
  },
  {
   "cell_type": "code",
   "execution_count": null,
   "metadata": {
    "scrolled": true
   },
   "outputs": [],
   "source": [
    "ft_dict = {'u*n*k':0, 'p*a*d':1}\n",
    "ft_list = ['u*n*k', 'p*a*d']\n",
    "\n",
    "word2vec = {}\n",
    "for line in fin:\n",
    "    tokens = line.rstrip().split(' ')\n",
    "    word2vec[tokens[0]] = list(map(float, tokens[1:]))\n",
    "    ft_dict[tokens[0]] = len(ft_list)\n",
    "    ft_list.append(tokens[0])\n",
    "\n",
    "np.save('ft_w2v.npy', word2vec)\n",
    "np.save('ft_w2i.npy', ft_dict)\n",
    "np.save('ft_i2w.npy', ft_list)"
   ]
  },
  {
   "cell_type": "code",
   "execution_count": null,
   "metadata": {},
   "outputs": [],
   "source": [
    "ft_list = np.load('../data/word_emb/ft_i2w.npy')\n",
    "word2vec = np.load('../data/word_emb/ft_w2v.npy').item()\n",
    "print(len(ft_list), ft_list[0], ft_list[1])"
   ]
  },
  {
   "cell_type": "code",
   "execution_count": null,
   "metadata": {},
   "outputs": [],
   "source": [
    "ft_i2v = []\n",
    "for word in ft_list[2:]:\n",
    "    ft_i2v.append(word2vec[word])\n",
    "ft_i2v = np.array(ft_i2v)\n",
    "np.save(\"../data/word_emb/ft_i2v.npy\", ft_i2v)"
   ]
  },
  {
   "cell_type": "code",
   "execution_count": null,
   "metadata": {},
   "outputs": [],
   "source": [
    "ft_i2v.shape"
   ]
  },
  {
   "cell_type": "markdown",
   "metadata": {},
   "source": [
    "# Glove"
   ]
  },
  {
   "cell_type": "code",
   "execution_count": 24,
   "metadata": {},
   "outputs": [],
   "source": [
    "glove = open(\"../data/word_emb/glove.6B.300d.txt\")\n",
    "gb_dict = {'u*n*k':0, 'p*a*d':1}\n",
    "gb_list = ['u*n*k', 'p*a*d']\n",
    "word2vec = {}"
   ]
  },
  {
   "cell_type": "code",
   "execution_count": 25,
   "metadata": {},
   "outputs": [],
   "source": [
    "for line in glove:\n",
    "    tokens = line.split(\" \")\n",
    "    word = tokens[0]\n",
    "    vec  = list(map(float, tokens[1:]))\n",
    "    word2vec[word] = vec\n",
    "    gb_dict[tokens[0]] = len(gb_list)\n",
    "    gb_list.append(tokens[0])\n",
    "\n",
    "np.save('../data/word_emb/gb_w2v.npy', word2vec)\n",
    "np.save('../data/word_emb/gb_w2i.npy', gb_dict)\n",
    "np.save('../data/word_emb/gb_i2w.npy', gb_list)"
   ]
  },
  {
   "cell_type": "code",
   "execution_count": 30,
   "metadata": {},
   "outputs": [],
   "source": [
    "gb_i2v = []\n",
    "for word in gb_list[2:]:\n",
    "    gb_i2v.append(word2vec[word])\n",
    "gb_i2v = np.array(gb_i2v)\n",
    "np.save(\"../data/word_emb/gb_i2v.npy\", gb_i2v)"
   ]
  },
  {
   "cell_type": "markdown",
   "metadata": {},
   "source": [
    "# typo2id"
   ]
  },
  {
   "cell_type": "code",
   "execution_count": 84,
   "metadata": {},
   "outputs": [],
   "source": [
    "import numpy\n",
    "data = np.load('../data/fiu_data.npy')"
   ]
  },
  {
   "cell_type": "code",
   "execution_count": 85,
   "metadata": {},
   "outputs": [],
   "source": [
    "typo2id={}\n",
    "id2typo=[]\n",
    "\n",
    "for tokens in data:\n",
    "    typos = tokens[0]\n",
    "    for typo in typos:\n",
    "        if typo2id.get(typo) == None:\n",
    "            typo2id[typo] = len(id2typo)\n",
    "            id2typo.append(typo)\n",
    "\n",
    "np.save('../data/typo_list.npy', id2typo)\n",
    "np.save('../data/typo_dict.npy', typo2id)"
   ]
  },
  {
   "cell_type": "markdown",
   "metadata": {},
   "source": [
    "# MAKE DATA : Each Typo for an Indexed Text"
   ]
  },
  {
   "cell_type": "code",
   "execution_count": 93,
   "metadata": {},
   "outputs": [],
   "source": [
    "import nltk\n",
    "#nltk.download('punkt')\n",
    "import numpy as np\n",
    "data_arr = np.load(\"../data/fiu_data.npy\")\n",
    "ft_dict = np.load(\"../data/word_emb/gb_w2i.npy\").item()\n",
    "typo2id = np.load(\"../data/typo_dict.npy\").item()"
   ]
  },
  {
   "cell_type": "code",
   "execution_count": 94,
   "metadata": {},
   "outputs": [],
   "source": [
    "UNK = 0\n",
    "PAD = 1\n",
    "\n",
    "new_data = []\n",
    "idx2typos = []\n",
    "idx2text = []\n",
    "\n",
    "for i, (typo_list, text) in enumerate(data_arr):\n",
    "    sent_text = nltk.sent_tokenize(text.lower())\n",
    "    text = [[word for word in nltk.word_tokenize(sentence)] for sentence in sent_text]\n",
    "    text = [a for b in text for a in b]\n",
    "    \n",
    "    indexed_text = []\n",
    "    for word in text:\n",
    "        if ft_dict.get(word) != None:\n",
    "            indexed_text.append(ft_dict[word])\n",
    "        else:\n",
    "            indexed_text.append(UNK)\n",
    "    \n",
    "    # cutting till 300 words\n",
    "    if len(indexed_text) > 300:\n",
    "        sent_len = 300\n",
    "        indexed_text = indexed_text[:300]\n",
    "    elif len(indexed_text) < 300:\n",
    "        sent_len = len(indexed_text)\n",
    "        indexed_text += [PAD]*(300-len(indexed_text))\n",
    "\n",
    "    for typo in typo_list:\n",
    "        new_data.append([i] + [typo2id[typo]])\n",
    "        \n",
    "    idx2text.append(indexed_text + [sent_len])\n",
    "    idx2typos.append([typo2id[typo] for typo in typo_list])\n",
    "        \n",
    "np.save('../data/fiu_indexed.npy', new_data)\n",
    "np.save('../data/idx2typos.npy', idx2typos)\n",
    "np.save('../data/idx2text.npy', idx2text)"
   ]
  },
  {
   "cell_type": "markdown",
   "metadata": {},
   "source": [
    "# Graph"
   ]
  },
  {
   "cell_type": "code",
   "execution_count": 74,
   "metadata": {},
   "outputs": [],
   "source": [
    "import numpy as np\n",
    "data = np.load(\"../data/fiu_indexed.npy\")\n",
    "idx2typo = np.load('../data/idx2typos.npy').item()\n",
    "typo_dict = np.load(\"../data/typo_dict.npy\").item()\n",
    "typo_list = np.load('../data/typo_list.npy')"
   ]
  },
  {
   "cell_type": "code",
   "execution_count": 59,
   "metadata": {},
   "outputs": [],
   "source": [
    "text_len = len(idx2typo)\n",
    "typo_len = len(typo_list)\n",
    "graph_matrix = np.zeros((text_len, typo_len))\n",
    "\n",
    "for (text_idx, typos) in idx2typo.items():\n",
    "    for typo in typos:\n",
    "        try:\n",
    "            typo_idx = typo_dict[typo.replace('_',' ').replace('=','/')]\n",
    "        except KeyError:\n",
    "            typo_idx = typo_dict[typo]\n",
    "        graph_matrix[text_idx, typo_idx] += 1"
   ]
  },
  {
   "cell_type": "code",
   "execution_count": 65,
   "metadata": {},
   "outputs": [],
   "source": [
    "typo2typo_mat = np.zeros((typo_len, typo_len))\n",
    "\n",
    "for (_, typos) in idx2typo.items():\n",
    "    for typo1 in typos:\n",
    "        try:\n",
    "            typo1_idx = typo_dict[typo1.replace('_',' ').replace('=','/')]\n",
    "        except KeyError:\n",
    "            typo1_idx = typo_dict[typo1]\n",
    "            \n",
    "        for typo2 in typos:\n",
    "            try:\n",
    "                typo2_idx = typo_dict[typo2.replace('_',' ').replace('=','/')]\n",
    "            except KeyError:\n",
    "                typo2_idx = typo_dict[typo2]\n",
    "                \n",
    "            typo2typo_mat[typo1_idx, typo2_idx] += 1"
   ]
  },
  {
   "cell_type": "code",
   "execution_count": 73,
   "metadata": {},
   "outputs": [],
   "source": [
    "np.save('../data/text2typo_mat.npy', graph_matrix)\n",
    "np.save('../data/typo2typo_mat.npy', typo2typo_mat)"
   ]
  },
  {
   "cell_type": "markdown",
   "metadata": {},
   "source": [
    "# Statistics"
   ]
  },
  {
   "cell_type": "code",
   "execution_count": null,
   "metadata": {},
   "outputs": [],
   "source": [
    "text_len = []\n",
    "for (typo, text) in new_data:\n",
    "    text_len.append(len(text))\n",
    "print(np.max(text_len), np.mean(text_len), np.median(text_len), np.min(text_len))\n",
    "print(len(new_data))"
   ]
  },
  {
   "cell_type": "code",
   "execution_count": 12,
   "metadata": {},
   "outputs": [],
   "source": [
    "from os import listdir\n",
    "from PIL import Image\n",
    "from matplotlib.pyplot import imshow\n",
    "import numpy as np\n",
    "\n",
    "image_path = \"../data/png/\"\n",
    "file_list = listdir(image_path)"
   ]
  },
  {
   "cell_type": "code",
   "execution_count": 35,
   "metadata": {},
   "outputs": [
    {
     "name": "stdout",
     "output_type": "stream",
     "text": [
      "(32, 256)\n"
     ]
    },
    {
     "data": {
      "image/png": "[encoded data removed]",
      "text/plain": [
       "<Figure size 432x288 with 1 Axes>"
      ]
     },
     "metadata": {},
     "output_type": "display_data"
    }
   ],
   "source": [
    "max_w = 0\n",
    "max_h = 1\n",
    "\n",
    "for file in file_list:\n",
    "    im = Image.open(image_path+file, 'r').convert(\"L\")\n",
    "    w, h = im.size\n",
    "    \n",
    "    if max_w < w:\n",
    "        max_w = w\n",
    "    if max_h < h:\n",
    "        max_h = h\n",
    "        \n",
    "    im = im.resize((256,32), Image.ANTIALIAS)\n",
    "    print(np.asarray(im).shape)\n",
    "    imshow(np.asarray(im), cmap='gray')\n",
    "    break\n",
    "#print(max_w, max_h)"
   ]
  },
  {
   "cell_type": "code",
   "execution_count": 107,
   "metadata": {},
   "outputs": [
    {
     "data": {
      "text/plain": [
       "29"
      ]
     },
     "execution_count": 107,
     "metadata": {},
     "output_type": "execute_result"
    }
   ],
   "source": [
    "max([len(lst) for lst in idx2typos])"
   ]
  }
 ],
 "metadata": {
  "kernelspec": {
   "display_name": "Python 3",
   "language": "python",
   "name": "python3"
  },
  "language_info": {
   "codemirror_mode": {
    "name": "ipython",
    "version": 3
   },
   "file_extension": ".py",
   "mimetype": "text/x-python",
   "name": "python",
   "nbconvert_exporter": "python",
   "pygments_lexer": "ipython3",
   "version": "3.5.2"
  }
 },
 "nbformat": 4,
 "nbformat_minor": 2
}
