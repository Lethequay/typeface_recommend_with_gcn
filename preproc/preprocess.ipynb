{
 "cells": [
  {
   "cell_type": "markdown",
   "metadata": {},
   "source": [
    "# FIU DATA"
   ]
  },
  {
   "cell_type": "code",
   "execution_count": 10,
   "metadata": {},
   "outputs": [],
   "source": [
    "import numpy as np\n",
    "import os\n",
    "\n",
    "path = \"./data/\"\n",
    "fiu_list = []\n",
    "\n",
    "for file in os.listdir(path):\n",
    "    if file.startswith(\"fiu\"):\n",
    "        fiu_list.append(np.load(path+file))"
   ]
  },
  {
   "cell_type": "code",
   "execution_count": 15,
   "metadata": {},
   "outputs": [],
   "source": [
    "fiu_array = np.concatenate(fiu_list, 0)"
   ]
  },
  {
   "cell_type": "code",
   "execution_count": 20,
   "metadata": {},
   "outputs": [],
   "source": [
    "np.save(\"./fiu_data.npy\", fiu_array)"
   ]
  },
  {
   "cell_type": "markdown",
   "metadata": {},
   "source": [
    "# Typeface Dict"
   ]
  },
  {
   "cell_type": "code",
   "execution_count": 23,
   "metadata": {},
   "outputs": [],
   "source": [
    "import numpy as np\n",
    "import os\n",
    "import urllib.request\n",
    "\n",
    "path = \"./data/\"\n",
    "type_list = []\n",
    "\n",
    "for file in os.listdir(path):\n",
    "    if file.startswith(\"typeface\"):\n",
    "        type_list.append(np.load(path+file).item())"
   ]
  },
  {
   "cell_type": "code",
   "execution_count": 27,
   "metadata": {},
   "outputs": [],
   "source": [
    "new_type_dict = {}\n",
    "for dic in type_list:\n",
    "    for (key, value) in dic.items():\n",
    "        if new_type_dict.get(key) == None:\n",
    "            new_type_dict[key] = value\n",
    "        else:\n",
    "            continue"
   ]
  },
  {
   "cell_type": "code",
   "execution_count": 39,
   "metadata": {},
   "outputs": [],
   "source": [
    "import urllib.request\n",
    "dw_path = \"./data/png/\"\n",
    "\n",
    "for (name, url) in new_type_dict.items():\n",
    "    name = name.replace(' ','_').replace('/','-')\n",
    "    urllib.request.urlretrieve(url, dw_path+name+\".png\")"
   ]
  }
 ],
 "metadata": {
  "kernelspec": {
   "display_name": "Python 3",
   "language": "python",
   "name": "python3"
  },
  "language_info": {
   "codemirror_mode": {
    "name": "ipython",
    "version": 3
   },
   "file_extension": ".py",
   "mimetype": "text/x-python",
   "name": "python",
   "nbconvert_exporter": "python",
   "pygments_lexer": "ipython3",
   "version": "3.5.2"
  }
 },
 "nbformat": 4,
 "nbformat_minor": 2
}
