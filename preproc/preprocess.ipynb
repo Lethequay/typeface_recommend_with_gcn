{
 "cells": [
  {
   "cell_type": "markdown",
   "metadata": {},
   "source": [
    "# FIU DATA"
   ]
  },
  {
   "cell_type": "code",
   "execution_count": 10,
   "metadata": {},
   "outputs": [],
   "source": [
    "import numpy as np\n",
    "import os\n",
    "\n",
    "path = \"./data/\"\n",
    "fiu_list = []\n",
    "\n",
    "for file in os.listdir(path):\n",
    "    if file.startswith(\"fiu\"):\n",
    "        fiu_list.append(np.load(path+file))"
   ]
  },
  {
   "cell_type": "code",
   "execution_count": 15,
   "metadata": {},
   "outputs": [],
   "source": [
    "fiu_array = np.concatenate(fiu_list, 0)"
   ]
  },
  {
   "cell_type": "code",
   "execution_count": 20,
   "metadata": {},
   "outputs": [],
   "source": [
    "np.save(\"./fiu_data.npy\", fiu_array)"
   ]
  },
  {
   "cell_type": "markdown",
   "metadata": {},
   "source": [
    "# Typeface Dict"
   ]
  },
  {
   "cell_type": "code",
   "execution_count": 23,
   "metadata": {},
   "outputs": [],
   "source": [
    "import numpy as np\n",
    "import os\n",
    "import urllib.request\n",
    "\n",
    "path = \"./data/\"\n",
    "type_list = []\n",
    "\n",
    "for file in os.listdir(path):\n",
    "    if file.startswith(\"typeface\"):\n",
    "        type_list.append(np.load(path+file).item())"
   ]
  },
  {
   "cell_type": "code",
   "execution_count": 27,
   "metadata": {},
   "outputs": [],
   "source": [
    "new_type_dict = {}\n",
    "for dic in type_list:\n",
    "    for (key, value) in dic.items():\n",
    "        if new_type_dict.get(key) == None:\n",
    "            new_type_dict[key] = value\n",
    "        else:\n",
    "            continue"
   ]
  },
  {
   "cell_type": "code",
   "execution_count": 39,
   "metadata": {},
   "outputs": [],
   "source": [
    "import urllib.request\n",
    "dw_path = \"./data/png/\"\n",
    "\n",
    "for (name, url) in new_type_dict.items():\n",
    "    name = name.replace(' ','_').replace('/','-')\n",
    "    urllib.request.urlretrieve(url, dw_path+name+\".png\")"
   ]
  },
  {
   "cell_type": "markdown",
   "metadata": {},
   "source": [
    "# FastText"
   ]
  },
  {
   "cell_type": "code",
   "execution_count": 13,
   "metadata": {},
   "outputs": [],
   "source": [
    "import io\n",
    "fin = io.open(\"../data/word_emb/wiki-news-300d-1M.vec\", \n",
    "              'r', encoding='utf-8', newline='\\n', errors='ignore')\n",
    "n, d = map(int, fin.readline().split())"
   ]
  },
  {
   "cell_type": "code",
   "execution_count": 16,
   "metadata": {
    "scrolled": true
   },
   "outputs": [
    {
     "ename": "AttributeError",
     "evalue": "'str' object has no attribute 'idx2vec'",
     "output_type": "error",
     "traceback": [
      "\u001b[0;31m---------------------------------------------------------------------------\u001b[0m",
      "\u001b[0;31mAttributeError\u001b[0m                            Traceback (most recent call last)",
      "\u001b[0;32m<ipython-input-16-f8cc5b2c034b>\u001b[0m in \u001b[0;36m<module>\u001b[0;34m()\u001b[0m\n\u001b[1;32m     12\u001b[0m \u001b[0mnp\u001b[0m\u001b[0;34m.\u001b[0m\u001b[0msave\u001b[0m\u001b[0;34m(\u001b[0m\u001b[0;34m'ft_w2i.npy'\u001b[0m\u001b[0;34m,\u001b[0m \u001b[0mft_dict\u001b[0m\u001b[0;34m)\u001b[0m\u001b[0;34m\u001b[0m\u001b[0m\n\u001b[1;32m     13\u001b[0m \u001b[0mnp\u001b[0m\u001b[0;34m.\u001b[0m\u001b[0msave\u001b[0m\u001b[0;34m(\u001b[0m\u001b[0;34m'ft_i2w.npy'\u001b[0m\u001b[0;34m,\u001b[0m \u001b[0mft_list\u001b[0m\u001b[0;34m)\u001b[0m\u001b[0;34m\u001b[0m\u001b[0m\n\u001b[0;32m---> 14\u001b[0;31m \u001b[0mnp\u001b[0m\u001b[0;34m.\u001b[0m\u001b[0msave\u001b[0m\u001b[0;34m(\u001b[0m\u001b[0;34m'ft_i2v.npy'\u001b[0m\u001b[0;34m.\u001b[0m \u001b[0midx2vec\u001b[0m\u001b[0;34m)\u001b[0m\u001b[0;34m\u001b[0m\u001b[0m\n\u001b[0m",
      "\u001b[0;31mAttributeError\u001b[0m: 'str' object has no attribute 'idx2vec'"
     ]
    }
   ],
   "source": [
    "ft_dict = {'u*n*k':0, 'p*a*d':1}\n",
    "ft_list = ['u*n*k', 'p*a*d']\n",
    "\n",
    "word2vec = {}\n",
    "for line in fin:\n",
    "    tokens = line.rstrip().split(' ')\n",
    "    word2vec[tokens[0]] = map(float, tokens[1:])\n",
    "    ft_dict[tokens[0]] = len(ft_list)\n",
    "    ft_list.append(tokens[0])\n",
    "\n",
    "np.save('ft_w2v.npy', word2vec)\n",
    "np.save('ft_w2i.npy', ft_dict)\n",
    "np.save('ft_i2w.npy', ft_list)"
   ]
  },
  {
   "cell_type": "markdown",
   "metadata": {},
   "source": [
    "# Each Typo for an Indexed Text"
   ]
  },
  {
   "cell_type": "code",
   "execution_count": 11,
   "metadata": {},
   "outputs": [],
   "source": [
    "import nltk\n",
    "import numpy as np\n",
    "data_arr = np.load(\"../data/fiu_data.npy\")"
   ]
  },
  {
   "cell_type": "code",
   "execution_count": 32,
   "metadata": {},
   "outputs": [],
   "source": [
    "UNK = 0\n",
    "PAD = 1\n",
    "\n",
    "new_data = []\n",
    "for (typo_list, text) in data_arr:\n",
    "    sent_text = nltk.sent_tokenize(text.lower()[2:])\n",
    "    text = [[word for word in nltk.word_tokenize(sentence)] for sentence in sent_text]\n",
    "    text = [a for b in text for a in b]\n",
    "    \n",
    "    indexed_text = []\n",
    "    for word in text:\n",
    "        if ft_dict.get(word) != None:\n",
    "            indexed_text.append(ft_dict[word])\n",
    "        else:\n",
    "            indexed_text.append(UNK)\n",
    "    \n",
    "    # cutting till 300 words\n",
    "    if len(indexed_text) > 300:\n",
    "        indexed_text = indexed_text[:300]\n",
    "    elif len(indexed_text) < 300:\n",
    "        indexed_text += [PAD]*(300-len(indexed_text))\n",
    "\n",
    "    for typo in typo_list:\n",
    "        new_data.append([typo] + indexed_text)"
   ]
  },
  {
   "cell_type": "code",
   "execution_count": 33,
   "metadata": {},
   "outputs": [],
   "source": [
    "np.save('fiu_indexed.npy', new_data)"
   ]
  },
  {
   "cell_type": "markdown",
   "metadata": {},
   "source": [
    "# Statistics"
   ]
  },
  {
   "cell_type": "code",
   "execution_count": 25,
   "metadata": {},
   "outputs": [
    {
     "name": "stdout",
     "output_type": "stream",
     "text": [
      "4909 273.29222000885346 150.0 55\n",
      "18072\n"
     ]
    }
   ],
   "source": [
    "text_len = []\n",
    "for (typo, text) in new_data:\n",
    "    text_len.append(len(text))\n",
    "print(np.max(text_len), np.mean(text_len), np.median(text_len), np.min(text_len))\n",
    "print(len(new_data))"
   ]
  }
 ],
 "metadata": {
  "kernelspec": {
   "display_name": "Python 3",
   "language": "python",
   "name": "python3"
  },
  "language_info": {
   "codemirror_mode": {
    "name": "ipython",
    "version": 3
   },
   "file_extension": ".py",
   "mimetype": "text/x-python",
   "name": "python",
   "nbconvert_exporter": "python",
   "pygments_lexer": "ipython3",
   "version": "3.5.2"
  }
 },
 "nbformat": 4,
 "nbformat_minor": 2
}
