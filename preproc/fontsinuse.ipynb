{
 "cells": [
  {
   "cell_type": "code",
   "execution_count": 19,
   "metadata": {},
   "outputs": [],
   "source": [
    "import tqdm\n",
    "import requests\n",
    "from bs4 import BeautifulSoup\n",
    "\n",
    "path = \"https://fontsinuse.com\"\n",
    "links = []\n",
    "\n",
    "req = requests.get(path)\n",
    "html = req.text\n",
    "soup = BeautifulSoup(html, 'html.parser')\n",
    "fonts = soup.find_all('a', {'class': 'fiu-entity-use-link__label'})\n",
    "for font in fonts:\n",
    "    links.append(font.get('href'))"
   ]
  },
  {
   "cell_type": "code",
   "execution_count": 27,
   "metadata": {},
   "outputs": [],
   "source": [
    "use_links = []\n",
    "for link in links[55:]:\n",
    "    for i in range(1,9):\n",
    "        req = requests.get(path+link+'/'+str(i))\n",
    "        html = req.text\n",
    "        soup = BeautifulSoup(html, 'html.parser')\n",
    "        articles = soup.find_all('div', {'class': 'fiu-gallery-item__img-wrapper'})\n",
    "        for article in articles:\n",
    "            use_links.append(article.find('a').get('href'))"
   ]
  },
  {
   "cell_type": "code",
   "execution_count": 88,
   "metadata": {
    "scrolled": true
   },
   "outputs": [
    {
     "name": "stdout",
     "output_type": "stream",
     "text": [
      "6100\n",
      "6200\n",
      "6300\n",
      "6500\n",
      "6600\n",
      "6700\n",
      "6800\n",
      "6900\n"
     ]
    }
   ],
   "source": [
    "import numpy as np\n",
    "\n",
    "typeface_dict = {}\n",
    "fiu_data = []\n",
    "idx = 0\n",
    "\n",
    "for i, link in enumerate(use_links):\n",
    "    if link == '/about':\n",
    "        continue\n",
    "    req = requests.get(path+link)\n",
    "    html = req.text\n",
    "    soup = BeautifulSoup(html, 'html.parser')\n",
    "    typefaces = soup.find('ul', {'class': \"fiu-sample-list fiu-use-meta-list fiu-use-meta-list--families fiu-use-meta-list--editable\"})\\\n",
    "                    .find_all('img')\n",
    "    \n",
    "    type_list = []\n",
    "    for typeface in typefaces:\n",
    "        key = typeface.get('title')\n",
    "        type_list.append(key)\n",
    "        if typeface_dict.get(key) == None:\n",
    "            value = typeface.get('src')\n",
    "            typeface_dict[key] = value\n",
    "    \n",
    "    paras = soup.find_all('p')\n",
    "    para_list = []\n",
    "    for para in paras:\n",
    "        para_list.append(para.text)\n",
    "    text = ' '.join(para_list)\n",
    "    \n",
    "    fiu_data.append((type_list, text))\n",
    "\n",
    "    if (i+1)%100 == 0:\n",
    "        print(i+1)\n",
    "    if (i+1)%1000 == 0:\n",
    "        np.save('fiu_data%d.npy'%(i+1), fiu_data)\n",
    "        np.save('typeface_dict%d.npy'%(i+1), typeface_dict)\n",
    "        fiu_data = []\n",
    "        typeface_dict = {}\n",
    "        i+=1\n",
    "        \n",
    "np.save('fiu_data%d.npy'%(i+1), fiu_data)\n",
    "np.save('typeface_dict%d.npy'%(i+1), typeface_dict)"
   ]
  },
  {
   "cell_type": "code",
   "execution_count": 87,
   "metadata": {},
   "outputs": [
    {
     "data": {
      "text/plain": [
       "6763"
      ]
     },
     "execution_count": 87,
     "metadata": {},
     "output_type": "execute_result"
    }
   ],
   "source": [
    "len(use_links)"
   ]
  }
 ],
 "metadata": {
  "kernelspec": {
   "display_name": "Python 3",
   "language": "python",
   "name": "python3"
  },
  "language_info": {
   "codemirror_mode": {
    "name": "ipython",
    "version": 3
   },
   "file_extension": ".py",
   "mimetype": "text/x-python",
   "name": "python",
   "nbconvert_exporter": "python",
   "pygments_lexer": "ipython3",
   "version": "3.5.2"
  }
 },
 "nbformat": 4,
 "nbformat_minor": 2
}
